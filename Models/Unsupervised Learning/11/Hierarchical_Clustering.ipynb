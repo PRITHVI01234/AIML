{
 "cells": [
  {
   "cell_type": "markdown",
   "id": "93f851cc",
   "metadata": {},
   "source": [
    "# Unsupervised Learning:"
   ]
  },
  {
   "cell_type": "markdown",
   "id": "659a3d25",
   "metadata": {},
   "source": [
    "**11.Implementing hierarchical clustering algorithm.**"
   ]
  },
  {
   "cell_type": "markdown",
   "id": "b09e839e",
   "metadata": {},
   "source": [
    "Agglomerative hierarchical clustering groups data points into clusters step by step, merging the most similar clusters until all points belong to one big cluster. It's like building a family tree where individuals are grouped into larger families until everyone is connected."
   ]
  },
  {
   "cell_type": "markdown",
   "id": "8a4efd3c",
   "metadata": {},
   "source": [
    "******************"
   ]
  },
  {
   "cell_type": "code",
   "execution_count": 29,
   "id": "ce8b1820",
   "metadata": {},
   "outputs": [],
   "source": [
    "import numpy as np\n",
    "import pandas as pd\n",
    "from scipy.cluster.hierarchy import dendrogram, linkage\n",
    "import matplotlib.pyplot as plt"
   ]
  },
  {
   "cell_type": "code",
   "execution_count": 30,
   "id": "d004a7aa",
   "metadata": {},
   "outputs": [],
   "source": [
    "df = pd.read_csv('synthetic_dataset_10.csv')"
   ]
  },
  {
   "cell_type": "code",
   "execution_count": 31,
   "id": "b566c401",
   "metadata": {},
   "outputs": [
    {
     "data": {
      "text/html": [
       "<div>\n",
       "<style scoped>\n",
       "    .dataframe tbody tr th:only-of-type {\n",
       "        vertical-align: middle;\n",
       "    }\n",
       "\n",
       "    .dataframe tbody tr th {\n",
       "        vertical-align: top;\n",
       "    }\n",
       "\n",
       "    .dataframe thead th {\n",
       "        text-align: right;\n",
       "    }\n",
       "</style>\n",
       "<table border=\"1\" class=\"dataframe\">\n",
       "  <thead>\n",
       "    <tr style=\"text-align: right;\">\n",
       "      <th></th>\n",
       "      <th>Feature_1</th>\n",
       "      <th>Feature_2</th>\n",
       "    </tr>\n",
       "  </thead>\n",
       "  <tbody>\n",
       "    <tr>\n",
       "      <th>0</th>\n",
       "      <td>0.374540</td>\n",
       "      <td>0.950714</td>\n",
       "    </tr>\n",
       "    <tr>\n",
       "      <th>1</th>\n",
       "      <td>0.731994</td>\n",
       "      <td>0.598658</td>\n",
       "    </tr>\n",
       "    <tr>\n",
       "      <th>2</th>\n",
       "      <td>0.156019</td>\n",
       "      <td>0.155995</td>\n",
       "    </tr>\n",
       "    <tr>\n",
       "      <th>3</th>\n",
       "      <td>0.058084</td>\n",
       "      <td>0.866176</td>\n",
       "    </tr>\n",
       "    <tr>\n",
       "      <th>4</th>\n",
       "      <td>0.601115</td>\n",
       "      <td>0.708073</td>\n",
       "    </tr>\n",
       "    <tr>\n",
       "      <th>5</th>\n",
       "      <td>0.020584</td>\n",
       "      <td>0.969910</td>\n",
       "    </tr>\n",
       "    <tr>\n",
       "      <th>6</th>\n",
       "      <td>0.832443</td>\n",
       "      <td>0.212339</td>\n",
       "    </tr>\n",
       "    <tr>\n",
       "      <th>7</th>\n",
       "      <td>0.181825</td>\n",
       "      <td>0.183405</td>\n",
       "    </tr>\n",
       "    <tr>\n",
       "      <th>8</th>\n",
       "      <td>0.304242</td>\n",
       "      <td>0.524756</td>\n",
       "    </tr>\n",
       "    <tr>\n",
       "      <th>9</th>\n",
       "      <td>0.431945</td>\n",
       "      <td>0.291229</td>\n",
       "    </tr>\n",
       "  </tbody>\n",
       "</table>\n",
       "</div>"
      ],
      "text/plain": [
       "   Feature_1  Feature_2\n",
       "0   0.374540   0.950714\n",
       "1   0.731994   0.598658\n",
       "2   0.156019   0.155995\n",
       "3   0.058084   0.866176\n",
       "4   0.601115   0.708073\n",
       "5   0.020584   0.969910\n",
       "6   0.832443   0.212339\n",
       "7   0.181825   0.183405\n",
       "8   0.304242   0.524756\n",
       "9   0.431945   0.291229"
      ]
     },
     "execution_count": 31,
     "metadata": {},
     "output_type": "execute_result"
    }
   ],
   "source": [
    "df"
   ]
  },
  {
   "cell_type": "code",
   "execution_count": 32,
   "id": "e65b86db",
   "metadata": {},
   "outputs": [],
   "source": [
    "# Convert DataFrame to numpy array\n",
    "X = df.values"
   ]
  },
  {
   "cell_type": "code",
   "execution_count": 33,
   "id": "06813e6a",
   "metadata": {},
   "outputs": [
    {
     "data": {
      "image/png": "[encoded data removed]",
      "text/plain": [
       "<Figure size 800x600 with 1 Axes>"
      ]
     },
     "metadata": {},
     "output_type": "display_data"
    }
   ],
   "source": [
    "# Perform hierarchical clustering\n",
    "linked = linkage(X, method='ward')\n",
    "\n",
    "# Plot the dendrogram\n",
    "plt.figure(figsize=(8, 6))\n",
    "dendrogram(linked, orientation='top', distance_sort='descending', show_leaf_counts=True)\n",
    "plt.title('Hierarchical Clustering Dendrogram')\n",
    "plt.xlabel('Data Point Index')\n",
    "plt.ylabel('Distance')\n",
    "plt.show()"
   ]
  },
  {
   "cell_type": "code",
   "execution_count": 34,
   "id": "3b22b764",
   "metadata": {},
   "outputs": [
    {
     "name": "stdout",
     "output_type": "stream",
     "text": [
      "Cluster assignments: [1 3 2 1 3 1 3 2 2 2]\n"
     ]
    }
   ],
   "source": [
    "# Specify the desired number of clusters\n",
    "num_clusters = 3\n",
    "\n",
    "# Cluster the data points\n",
    "clusters = fcluster(linked, num_clusters, criterion='maxclust')\n",
    "\n",
    "# Print the cluster assignments\n",
    "print(\"Cluster assignments:\", clusters)"
   ]
  },
  {
   "cell_type": "markdown",
   "id": "4191b7ac",
   "metadata": {},
   "source": [
    "The output \"Cluster assignments: [1 3 2 1 3 1 3 2 2 2]\" means that each data point has been assigned to a cluster.\n",
    "\n",
    "1.For example, the first data point is assigned to cluster 1, the second data point to cluster 3, the third data point to cluster 2, and so on.\n",
    "\n",
    "2.The numbers represent the cluster labels assigned to each data point by the hierarchical clustering algorithm.\n",
    "\n",
    "3.In this case, there are 3 clusters, labeled as 1, 2, and 3.\n",
    "\n",
    "4.These assignments indicate which cluster each data point belongs to, based on the hierarchical clustering of the data.\n",
    "\n",
    "5.The cluster labels are arbitrary and do not have inherent meaning; they are used to distinguish between different groups of data points in the clustering result."
   ]
  }
 ],
 "metadata": {
  "kernelspec": {
   "display_name": "Python 3 (ipykernel)",
   "language": "python",
   "name": "python3"
  },
  "language_info": {
   "codemirror_mode": {
    "name": "ipython",
    "version": 3
   },
   "file_extension": ".py",
   "mimetype": "text/x-python",
   "name": "python",
   "nbconvert_exporter": "python",
   "pygments_lexer": "ipython3",
   "version": "3.11.5"
  }
 },
 "nbformat": 4,
 "nbformat_minor": 5
}
