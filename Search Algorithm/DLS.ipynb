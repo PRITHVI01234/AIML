{
 "cells": [
  {
   "cell_type": "markdown",
   "id": "d3f8d022",
   "metadata": {},
   "source": [
    "# Required Modules:"
   ]
  },
  {
   "cell_type": "code",
   "execution_count": 1,
   "id": "6a62eb69",
   "metadata": {},
   "outputs": [],
   "source": [
    "from collections import deque\n",
    "import networkx as nx\n",
    "import matplotlib.pyplot as plt"
   ]
  },
  {
   "cell_type": "markdown",
   "id": "80938d17",
   "metadata": {},
   "source": [
    "# Simple Graph Implementation:"
   ]
  },
  {
   "cell_type": "code",
   "execution_count": 2,
   "id": "aaca34d5",
   "metadata": {},
   "outputs": [],
   "source": [
    "class Graph:\n",
    "    \n",
    "    def __init__(self):\n",
    "        self.graph = {}\n",
    "\n",
    "    def add_edge(self, node, neighbor):\n",
    "        if node not in self.graph:\n",
    "            self.graph[node] = []\n",
    "        self.graph[node].append(neighbor)\n"
   ]
  },
  {
   "cell_type": "markdown",
   "id": "b21b77ae",
   "metadata": {},
   "source": [
    "# Depth Limited Search:"
   ]
  },
  {
   "cell_type": "code",
   "execution_count": 3,
   "id": "c2244433",
   "metadata": {},
   "outputs": [],
   "source": [
    "def depth_limited_search(graph, current, goal, depth, visited, path):\n",
    "    if current == goal:\n",
    "        return path + [current]\n",
    "\n",
    "    if depth == 0:\n",
    "        return None\n",
    "\n",
    "    if current in visited:\n",
    "        return None\n",
    "\n",
    "    visited.add(current)\n",
    "\n",
    "    for neighbor in graph.graph.get(current, []):\n",
    "        new_path = depth_limited_search(graph, neighbor, goal, depth - 1, visited, path + [current])\n",
    "        if new_path:\n",
    "            return new_path\n",
    "\n",
    "    return None\n"
   ]
  },
  {
   "cell_type": "markdown",
   "id": "77f2de75",
   "metadata": {},
   "source": [
    "# Example 1 :"
   ]
  },
  {
   "cell_type": "code",
   "execution_count": 6,
   "id": "9dce2020",
   "metadata": {},
   "outputs": [],
   "source": [
    "graph = Graph()\n",
    "graph.add_edge('A', 'B')\n",
    "graph.add_edge('A', 'C')\n",
    "graph.add_edge('B', 'D')\n",
    "graph.add_edge('B', 'E')\n",
    "graph.add_edge('C', 'F')\n",
    "graph.add_edge('D', 'G')\n",
    "graph.add_edge('D', 'H')\n",
    "graph.add_edge('E', 'I')\n",
    "graph.add_edge('E', 'J')\n",
    "graph.add_edge('F', 'K')\n",
    "graph.add_edge('F', 'L')"
   ]
  },
  {
   "cell_type": "code",
   "execution_count": 7,
   "id": "5c58b194",
   "metadata": {},
   "outputs": [
    {
     "data": {
      "image/png": "[encoded data removed]",
      "text/plain": [
       "<Figure size 640x480 with 1 Axes>"
      ]
     },
     "metadata": {},
     "output_type": "display_data"
    }
   ],
   "source": [
    "G = nx.Graph(graph.graph)\n",
    "pos = nx.spring_layout(G) \n",
    "nx.draw(G, pos, with_labels=True, font_weight='bold', node_size=700, node_color='skyblue', font_size=10, font_color='black', edge_color='gray')\n",
    "plt.title('Graph Visualization')\n",
    "plt.show()"
   ]
  },
  {
   "cell_type": "code",
   "execution_count": 8,
   "id": "ab1153e3",
   "metadata": {},
   "outputs": [],
   "source": [
    "start_node = 'A'\n",
    "goal_node = 'L'\n",
    "depth_limit = 3\n",
    "visited_nodes = set()\n",
    "result = depth_limited_search(graph, start_node, goal_node, depth_limit, visited_nodes, [])"
   ]
  },
  {
   "cell_type": "code",
   "execution_count": 9,
   "id": "b639b8a7",
   "metadata": {
    "scrolled": true
   },
   "outputs": [
    {
     "name": "stdout",
     "output_type": "stream",
     "text": [
      "Depth-Limited Search path from A to L (depth limit 3): ['A', 'C', 'F', 'L']\n"
     ]
    }
   ],
   "source": [
    "if result:\n",
    "    print(f\"Depth-Limited Search path from {start_node} to {goal_node} (depth limit {depth_limit}): {result}\")\n",
    "else:\n",
    "    print(f\"No path found from {start_node} to {goal_node} within the depth limit\")"
   ]
  },
  {
   "cell_type": "markdown",
   "id": "3c2ee4d3",
   "metadata": {},
   "source": [
    "*Same Graph But with different depth limit:*"
   ]
  },
  {
   "cell_type": "code",
   "execution_count": 14,
   "id": "70a72497",
   "metadata": {},
   "outputs": [],
   "source": [
    "start_node = 'A'\n",
    "goal_node = 'L'\n",
    "depth_limit = 2\n",
    "visited_nodes = set()\n",
    "result = depth_limited_search(graph, start_node, goal_node, depth_limit, visited_nodes, [])"
   ]
  },
  {
   "cell_type": "code",
   "execution_count": 15,
   "id": "a3262700",
   "metadata": {},
   "outputs": [
    {
     "name": "stdout",
     "output_type": "stream",
     "text": [
      "No path found from A to L within the depth limit\n"
     ]
    }
   ],
   "source": [
    "if result:\n",
    "    print(f\"Depth-Limited Search path from {start_node} to {goal_node} (depth limit {depth_limit}): {result}\")\n",
    "else:\n",
    "    print(f\"No path found from {start_node} to {goal_node} within the depth limit\")"
   ]
  },
  {
   "cell_type": "code",
   "execution_count": null,
   "id": "204bcd06",
   "metadata": {},
   "outputs": [],
   "source": []
  }
 ],
 "metadata": {
  "kernelspec": {
   "display_name": "Python 3 (ipykernel)",
   "language": "python",
   "name": "python3"
  },
  "language_info": {
   "codemirror_mode": {
    "name": "ipython",
    "version": 3
   },
   "file_extension": ".py",
   "mimetype": "text/x-python",
   "name": "python",
   "nbconvert_exporter": "python",
   "pygments_lexer": "ipython3",
   "version": "3.11.5"
  }
 },
 "nbformat": 4,
 "nbformat_minor": 5
}
